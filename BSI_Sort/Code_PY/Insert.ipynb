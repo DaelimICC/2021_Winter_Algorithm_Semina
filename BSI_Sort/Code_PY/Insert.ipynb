{
 "cells": [
  {
   "cell_type": "code",
   "execution_count": 8,
   "outputs": [
    {
     "name": "stdout",
     "output_type": "stream",
     "text": [
      "Sorted array:\n",
      "[0, 12, 17, 22, 23, 31, 31, 37, 46, 54, 72, 88, 100]\n"
     ]
    }
   ],
   "source": [
    "def binary_search(arr, val, start, end):\n",
    "\n",
    "    if start == end:\n",
    "        if arr[start] > val:\n",
    "            return start\n",
    "        else:\n",
    "            return start+1\n",
    "\n",
    "    if start > end:\n",
    "        return start\n",
    "\n",
    "    mid = (start+end)//2\n",
    "    if arr[mid] < val:\n",
    "        return binary_search(arr, val, mid+1, end)\n",
    "    elif arr[mid] > val:\n",
    "        return binary_search(arr, val, start, mid-1)\n",
    "    else:\n",
    "        return mid\n",
    "\n",
    "def insertion_sort(arr):\n",
    "    for i in range(1, len(arr)):\n",
    "        val = arr[i]\n",
    "        j = binary_search(arr, val, 0, i-1)\n",
    "        arr = arr[:j] + [val] + arr[j:i] + arr[i+1:]\n",
    "    return arr\n",
    "\n",
    "print(\"Sorted array:\")\n",
    "print(insertion_sort([37, 23, 0, 31, 22, 17, 12, 72, 31, 46, 100, 88, 54]))\n"
   ],
   "metadata": {
    "collapsed": false,
    "pycharm": {
     "name": "#%%\n"
    }
   }
  }
 ],
 "metadata": {
  "kernelspec": {
   "display_name": "Python 3",
   "language": "python",
   "name": "python3"
  },
  "language_info": {
   "codemirror_mode": {
    "name": "ipython",
    "version": 2
   },
   "file_extension": ".py",
   "mimetype": "text/x-python",
   "name": "python",
   "nbconvert_exporter": "python",
   "pygments_lexer": "ipython2",
   "version": "2.7.6"
  }
 },
 "nbformat": 4,
 "nbformat_minor": 0
}