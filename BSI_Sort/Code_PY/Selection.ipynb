{
 "cells": [
  {
   "cell_type": "code",
   "execution_count": 1,
   "metadata": {
    "collapsed": true
   },
   "outputs": [],
   "source": [
    "def double_selection(arr,a,b):\n",
    "    start = a\n",
    "    end = b\n",
    "    while start < end:\n",
    "        min = start\n",
    "        max = end\n",
    "        for i in range(start + 1 , end):\n",
    "            if arr[i] < arr[min]:\n",
    "                min = i\n",
    "            if arr[i] > arr[max]:\n",
    "                max = i\n",
    "\n",
    "        arr[start] , arr[min] = arr[min] , arr[start]\n",
    "        arr[end] , arr[max] = arr[max] , arr[end]\n",
    "        start += 1\n",
    "        end -= 1"
   ]
  }
 ],
 "metadata": {
  "kernelspec": {
   "display_name": "Python 3",
   "language": "python",
   "name": "python3"
  },
  "language_info": {
   "codemirror_mode": {
    "name": "ipython",
    "version": 2
   },
   "file_extension": ".py",
   "mimetype": "text/x-python",
   "name": "python",
   "nbconvert_exporter": "python",
   "pygments_lexer": "ipython2",
   "version": "2.7.6"
  }
 },
 "nbformat": 4,
 "nbformat_minor": 0
}