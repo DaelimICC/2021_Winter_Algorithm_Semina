{
 "cells": [
  {
   "cell_type": "markdown",
   "metadata": {
    "collapsed": true,
    "pycharm": {
     "name": "#%% md\n"
    }
   },
   "source": []
  },
  {
   "cell_type": "code",
   "execution_count": null,
   "outputs": [],
   "source": [
    "# 기수정렬을 위한 함수\n",
    "def radixsort(MyList):\n",
    "    n = len(MyList)\n",
    "    max = MyList[0]\n",
    "\n",
    "    #배열 내 가장 큰 원소 찾기\n",
    "    for i in MyList:\n",
    "        if max < i:\n",
    "            max = i\n",
    "\n",
    "    # 카운팅 정렬은 장소에 따라서 수행함\n",
    "    #한곳 뿐만이 아닌 10곳 이상에서도 수행가능\n",
    "    place = 1\n",
    "    while max/place > 0:\n",
    "        countingsort(MyList, place)\n",
    "        place *= 10"
   ],
   "metadata": {
    "collapsed": false,
    "pycharm": {
     "name": "#%%\n"
    }
   }
  },
  {
   "cell_type": "code",
   "execution_count": 5,
   "outputs": [],
   "source": [
    "def countingsort(MyList, place):\n",
    "    n = len(MyList)\n",
    "    output = [0 for i in range(0,n)]\n",
    "\n",
    "    #해당 숫자 범위는 0~9 까지로 설정\n",
    "    freq = [0 for i in range(0,10)]\n",
    "\n",
    "    #freq 배열의 발생횟수 구문\n",
    "    for i in range(0,n):\n",
    "        freq[(MyList[i]//place)%10] += 1\n",
    "\n",
    "    #실제 카운트를 포함하도록 카운트 i를 변경한다.\n",
    "    #output 에 이 숫자를 배치함.\n",
    "    for i in range(1,10):\n",
    "        freq[i] += freq[i - 1]\n",
    "\n",
    "        #output Array 배치 구문\n",
    "    for i in range(n-1,-1,-1):\n",
    "        output[freq[(MyList[i]//place)%10] - 1] = MyList[i]\n",
    "        freq[(MyList[i]//place)%10] -= 1\n",
    "\n",
    "\n",
    "    #지정된 위치의 숫자를 기준으로 정렬된 배열에 포함시킴.\n",
    "    for i in range(0,n):\n",
    "        MyList[i] = output[i]"
   ],
   "metadata": {
    "collapsed": false,
    "pycharm": {
     "name": "#%%\n"
    }
   }
  },
  {
   "cell_type": "code",
   "execution_count": null,
   "outputs": [],
   "source": [
    "def PrintList(MyList):\n",
    "    for i in MyList:\n",
    "        print(i, end=\" \")\n",
    "    print(\"\\n\")"
   ],
   "metadata": {
    "collapsed": false,
    "pycharm": {
     "name": "#%%\n"
    }
   }
  },
  {
   "cell_type": "code",
   "execution_count": null,
   "outputs": [],
   "source": [
    "# 코드 실행 문구\n",
    "MyList = [101, 1, 20, 50, 9, 98, 27, 153, 35, 899]\n",
    "print(\"Original List\")\n",
    "PrintList(MyList)\n",
    "\n",
    "radixsort(MyList)\n",
    "print(\"Sorted List\")\n",
    "PrintList(MyList)"
   ],
   "metadata": {
    "collapsed": false,
    "pycharm": {
     "name": "#%%\n"
    }
   }
  }
 ],
 "metadata": {
  "kernelspec": {
   "display_name": "Python 3",
   "language": "python",
   "name": "python3"
  },
  "language_info": {
   "codemirror_mode": {
    "name": "ipython",
    "version": 2
   },
   "file_extension": ".py",
   "mimetype": "text/x-python",
   "name": "python",
   "nbconvert_exporter": "python",
   "pygments_lexer": "ipython2",
   "version": "2.7.6"
  }
 },
 "nbformat": 4,
 "nbformat_minor": 0
}