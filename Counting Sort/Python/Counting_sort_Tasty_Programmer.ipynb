{
 "cells": [
  {
   "cell_type": "code",
   "execution_count": 4,
   "metadata": {
    "collapsed": true,
    "pycharm": {
     "name": "#%%\n"
    }
   },
   "outputs": [
    {
     "name": "stdout",
     "output_type": "stream",
     "text": [
      "[3, 3, 2, 2, 1, 1, 0]\n"
     ]
    }
   ],
   "source": [
    "def counting_Sort(list , sort_list):\n",
    "    list_amount = [0] * (max(list)+1)\n",
    "\n",
    "    for item in list:\n",
    "        list_amount[item] += 1\n",
    "\n",
    "    for index in range(len(list_amount)-2,-1,-1):\n",
    "        list_amount[index] += list_amount[index + 1]\n",
    "\n",
    "    for  save in range(len(list) -1 , -1 , -1):\n",
    "        sort_list[list_amount[list[save]]-1] = list[save]\n",
    "        list_amount[list[save]] -= 1\n",
    "\n",
    "before_List = [1, 3, 2, 3, 1 , 0 ,2]\n",
    "after_List = [0] * len(before_List)\n",
    "counting_Sort(before_List,after_List)\n",
    "print(after_List)"
   ]
  }
 ],
 "metadata": {
  "kernelspec": {
   "display_name": "Python 3",
   "language": "python",
   "name": "python3"
  },
  "language_info": {
   "codemirror_mode": {
    "name": "ipython",
    "version": 2
   },
   "file_extension": ".py",
   "mimetype": "text/x-python",
   "name": "python",
   "nbconvert_exporter": "python",
   "pygments_lexer": "ipython2",
   "version": "2.7.6"
  }
 },
 "nbformat": 4,
 "nbformat_minor": 0
}