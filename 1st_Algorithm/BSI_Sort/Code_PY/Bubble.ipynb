{
 "cells": [
  {
   "cell_type": "code",
   "execution_count": 2,
   "metadata": {
    "collapsed": true
   },
   "outputs": [],
   "source": [
    "def cocktail(arr, a, b):\n",
    "    swap = True # 정방향 True / 역방향 False\n",
    "    swapped = True # 바뀌었는지\n",
    "    while swapped :\n",
    "        swapped = False\n",
    "\n",
    "        if swap : # 정방향\n",
    "            for i in range (a, b):\n",
    "                if arr[i] > arr[i + 1]:\n",
    "                    arr[i], arr[i + 1]= arr[i + 1], arr[i]\n",
    "                    swapped = True # 바뀐게 있는지\n",
    "            b = b-1\n",
    "            swap = False # 방향전환\n",
    "        else : # 역방향\n",
    "            for i in range(b-1, a-1, -1):\n",
    "                if arr[i] > arr[i + 1]:\n",
    "                    arr[i], arr[i + 1] = arr[i + 1], arr[i]\n",
    "                    swapped = True # 바뀐게 있는지\n",
    "            a = a + 1\n",
    "            swap = True # 방향전환"
   ]
  }
 ],
 "metadata": {
  "kernelspec": {
   "display_name": "Python 3",
   "language": "python",
   "name": "python3"
  },
  "language_info": {
   "codemirror_mode": {
    "name": "ipython",
    "version": 2
   },
   "file_extension": ".py",
   "mimetype": "text/x-python",
   "name": "python",
   "nbconvert_exporter": "python",
   "pygments_lexer": "ipython2",
   "version": "2.7.6"
  }
 },
 "nbformat": 4,
 "nbformat_minor": 0
}